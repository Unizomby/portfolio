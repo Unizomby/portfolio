{
 "cells": [
  {
   "cell_type": "markdown",
   "metadata": {},
   "source": [
    "## Skills Diagram - PyVis"
   ]
  },
  {
   "cell_type": "code",
   "execution_count": 1,
   "metadata": {},
   "outputs": [
    {
     "name": "stdout",
     "output_type": "stream",
     "text": [
      "Warning: When  cdn_resources is 'local' jupyter notebook has issues displaying graphics on chrome/safari. Use cdn_resources='in_line' or cdn_resources='remote' if you have issues viewing graphics in a notebook.\n",
      "skill_diagram.html\n"
     ]
    },
    {
     "data": {
      "text/html": [
       "\n",
       "        <iframe\n",
       "            width=\"800px\"\n",
       "            height=\"500px\"\n",
       "            src=\"skill_diagram.html\"\n",
       "            frameborder=\"0\"\n",
       "            allowfullscreen\n",
       "            \n",
       "        ></iframe>\n",
       "        "
      ],
      "text/plain": [
       "<IPython.lib.display.IFrame at 0x1060f7820>"
      ]
     },
     "execution_count": 1,
     "metadata": {},
     "output_type": "execute_result"
    }
   ],
   "source": [
    "import networkx as nx\n",
    "from pyvis.network import Network\n",
    "\n",
    "purple_color = '#6e57e0'  # Using for the node color\n",
    "purple_dark = '#c1b6fc'  # Using for the line color between nodes\n",
    "\n",
    "# Create directed graph with networkx\n",
    "G = nx.DiGraph()\n",
    "G.add_nodes_from([\n",
    "    ('Software', {'namespace': ['1n'], 'workload': {1: '1w'}, 'size': 50, 'color': purple_color}), # These are the larger main nodes\n",
    "    ('Data Analysis', {'namespace': ['3n'], 'workload': '3w', 'color': purple_color, 'size': 50}),\n",
    "    ('Industrial Engineering', {'namespace': ['3n'], 'workload': '3w', 'color': purple_color, 'size': 50}),\n",
    "\n",
    "    ('Python', {'namespace': ['2n'], 'workload': '2w', 'color': purple_color}), # Software nodes\n",
    "    ('SQL', {'namespace': ['3n'], 'workload': '3w', 'color': purple_color}),\n",
    "    ('Excel', {'namespace': ['3n'], 'workload': '3w', 'color': purple_color}),\n",
    "    ('HTML', {'namespace': ['3n'], 'workload': '3w', 'color': purple_color}),\n",
    "    ('CSS', {'namespace': ['3n'], 'workload': '3w', 'color': purple_color}),\n",
    "    ('Tableau', {'namespace': ['3n'], 'workload': '3w', 'color': purple_color}),\n",
    "    ('Business Objects', {'namespace': ['3n'], 'workload': '3w', 'color': purple_color}),\n",
    "    \n",
    "    ('EDA', {'namespace': ['3n'], 'workload': '3w', 'color': purple_color}), # Data Analysis nodes\n",
    "    ('Regression', {'namespace': ['3n'], 'workload': '3w', 'color': purple_color}),\n",
    "    ('Machine Learning', {'namespace': ['3n'], 'workload': '3w', 'color': purple_color}),\n",
    "    ('Data Viz', {'namespace': ['3n'], 'workload': '3w', 'color': purple_color}),\n",
    "    ('Tensorflow', {'namespace': ['3n'], 'workload': '3w', 'color': purple_color}),\n",
    "\n",
    "    ('Process Improvements, A3', {'namespace': ['3n'], 'workload': '3w', 'color': purple_color}), # Industrial Engineering nodes\n",
    "    ('Impact assessments', {'namespace': ['3n'], 'workload': '3w', 'color': purple_color}),\n",
    "    ('Metric Reporting', {'namespace': ['3n'], 'workload': '3w', 'color': purple_color}),\n",
    "    ('Capacity, Staffing Analysis', {'namespace': ['3n'], 'workload': '3w', 'color': purple_color}),\n",
    "    ('Line Balancing', {'namespace': ['3n'], 'workload': '3w', 'color': purple_color}),\n",
    "    ('Crew Planning', {'namespace': ['3n'], 'workload': '3w', 'color': purple_color}),\n",
    "    ('Precedence Network Analysis', {'namespace': ['3n'], 'workload': '3w', 'color': purple_color}),\n",
    "    ('Cost Forecasting', {'namespace': ['3n'], 'workload': '3w', 'color': purple_color}),\n",
    "])\n",
    "G.add_edges_from([\n",
    "    ('Software', 'Python', {'weight': 1, 'color': purple_dark}), # These make the connections from one node to another\n",
    "    ('Software', 'SQL', {'weight': 1, 'color': purple_dark}),\n",
    "    ('Software', 'Excel', {'weight': 1, 'color': purple_dark}),\n",
    "    ('Software', 'HTML', {'weight': 1, 'color': purple_dark}),\n",
    "    ('HTML', 'CSS', {'weight': 1, 'color': purple_dark}),\n",
    "    ('Software', 'Tableau', {'weight': 1, 'color': purple_dark}),\n",
    "    ('Software', 'Business Objects', {'weight': 1, 'color': purple_dark}),\n",
    "    ('Data Analysis', 'EDA', {'weight': 1, 'color': purple_dark}),\n",
    "    ('Data Analysis', 'Regression', {'weight': 1, 'color': purple_dark}),\n",
    "    ('Data Analysis', 'Machine Learning', {'weight': 1, 'color': purple_dark}),\n",
    "    ('Data Analysis', 'Data Viz', {'weight': 1, 'color': purple_dark}),\n",
    "    ('Tableau', 'Data Viz', {'weight': 1, 'color': purple_dark}),\n",
    "    ('Industrial Engineering', 'Process Improvements, A3', {'weight': 1, 'color': purple_dark}),\n",
    "    ('Industrial Engineering', 'Impact assessments', {'weight': 1, 'color': purple_dark}),\n",
    "    ('Industrial Engineering', 'Metric Reporting', {'weight': 1, 'color': purple_dark}),\n",
    "    ('Industrial Engineering', 'Capacity, Staffing Analysis', {'weight': 1, 'color': purple_dark}),\n",
    "    ('Industrial Engineering', 'Line Balancing', {'weight': 1, 'color': purple_dark}),\n",
    "    ('Data Viz', 'Metric Reporting', {'weight': 1, 'color': purple_dark}),\n",
    "    ('Python', 'Regression', {'weight': 1, 'color': purple_dark}),\n",
    "    ('Python', 'Machine Learning', {'weight': 1, 'color': purple_dark}),\n",
    "    ('Python', 'Data Analysis', {'weight': 1, 'color': purple_dark}),\n",
    "    ('Excel', 'Regression', {'weight': 1, 'color': purple_dark}),\n",
    "    ('Excel', 'SQL', {'weight': 1, 'color': purple_dark}),\n",
    "    ('Python', 'SQL', {'weight': 1, 'color': purple_dark}),\n",
    "    ('Tableau', 'SQL', {'weight': 1, 'color': purple_dark}),\n",
    "    ('Business Objects', 'Data Analysis', {'weight': 1, 'color': purple_dark}),\n",
    "    ('Python', 'Tensorflow', {'weight': 1, 'color': purple_dark}),\n",
    "    ('Machine Learning', 'Tensorflow', {'weight': 1, 'color': purple_dark}),\n",
    "    ('Process Improvements, A3', 'Data Analysis', {'weight': 1, 'color': purple_dark}),\n",
    "    ('Industrial Engineering', 'Crew Planning', {'weight': 1, 'color': purple_dark}),\n",
    "    ('Precedence Network Analysis', 'Crew Planning', {'weight': 1, 'color': purple_dark}),\n",
    "    ('Industrial Engineering', 'Precedence Network Analysis', {'weight': 1, 'color': purple_dark}),\n",
    "    ('Industrial Engineering', 'Cost Forecasting', {'weight': 1, 'color': purple_dark}),\n",
    "    ('Regression', 'Cost Forecasting', {'weight': 1, 'color': purple_dark}),\n",
    "])\n",
    "\n",
    "\n",
    "# Plot with pyvis\n",
    "net = Network('500px', '800px', notebook=True)\n",
    "# net.show_buttons() # Show part 3 in the plot (optional)\n",
    "net.from_nx(G) # Create directly from nx graph\n",
    "net.show('skill_diagram.html')"
   ]
  },
  {
   "cell_type": "markdown",
   "metadata": {},
   "source": [
    "After this runs and creates the html file:\n",
    "\n",
    "* Open html file\n",
    "* Copy the code from \n",
    "<!-- <div class=\"card\" style=\"width: 100%\"> -->"
   ]
  },
  {
   "cell_type": "markdown",
   "metadata": {},
   "source": []
  },
  {
   "cell_type": "markdown",
   "metadata": {},
   "source": []
  }
 ],
 "metadata": {
  "kernelspec": {
   "display_name": "Python 3",
   "language": "python",
   "name": "python3"
  },
  "language_info": {
   "codemirror_mode": {
    "name": "ipython",
    "version": 3
   },
   "file_extension": ".py",
   "mimetype": "text/x-python",
   "name": "python",
   "nbconvert_exporter": "python",
   "pygments_lexer": "ipython3",
   "version": "3.9.6"
  }
 },
 "nbformat": 4,
 "nbformat_minor": 2
}
